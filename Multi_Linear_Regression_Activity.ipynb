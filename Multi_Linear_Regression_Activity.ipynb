{
 "cells": [
  {
   "cell_type": "markdown",
   "metadata": {},
   "source": [
    "# Multi-Linear Regression Analysis\n",
    "#### This notebook provides a comprehensive analysis of multiple linear regression on a dataset containing hours , prep exams and scores by ~ Kiaan Maharaj (ST10116983)"
   ]
  },
  {
   "cell_type": "markdown",
   "metadata": {},
   "source": [
    "## Import libraries"
   ]
  },
  {
   "cell_type": "code",
   "execution_count": 2,
   "metadata": {},
   "outputs": [],
   "source": [
    "import pandas as pd"
   ]
  },
  {
   "cell_type": "markdown",
   "metadata": {},
   "source": [
    "## Load and inspect the data"
   ]
  },
  {
   "cell_type": "code",
   "execution_count": 5,
   "metadata": {},
   "outputs": [
    {
     "data": {
      "text/html": [
       "<div>\n",
       "<style scoped>\n",
       "    .dataframe tbody tr th:only-of-type {\n",
       "        vertical-align: middle;\n",
       "    }\n",
       "\n",
       "    .dataframe tbody tr th {\n",
       "        vertical-align: top;\n",
       "    }\n",
       "\n",
       "    .dataframe thead th {\n",
       "        text-align: right;\n",
       "    }\n",
       "</style>\n",
       "<table border=\"1\" class=\"dataframe\">\n",
       "  <thead>\n",
       "    <tr style=\"text-align: right;\">\n",
       "      <th></th>\n",
       "      <th>hours</th>\n",
       "      <th>prep exams</th>\n",
       "      <th>score</th>\n",
       "    </tr>\n",
       "  </thead>\n",
       "  <tbody>\n",
       "    <tr>\n",
       "      <th>0</th>\n",
       "      <td>1</td>\n",
       "      <td>1</td>\n",
       "      <td>76</td>\n",
       "    </tr>\n",
       "    <tr>\n",
       "      <th>1</th>\n",
       "      <td>2</td>\n",
       "      <td>3</td>\n",
       "      <td>78</td>\n",
       "    </tr>\n",
       "    <tr>\n",
       "      <th>2</th>\n",
       "      <td>2</td>\n",
       "      <td>3</td>\n",
       "      <td>85</td>\n",
       "    </tr>\n",
       "    <tr>\n",
       "      <th>3</th>\n",
       "      <td>4</td>\n",
       "      <td>5</td>\n",
       "      <td>88</td>\n",
       "    </tr>\n",
       "    <tr>\n",
       "      <th>4</th>\n",
       "      <td>2</td>\n",
       "      <td>2</td>\n",
       "      <td>72</td>\n",
       "    </tr>\n",
       "  </tbody>\n",
       "</table>\n",
       "</div>"
      ],
      "text/plain": [
       "   hours  prep exams  score\n",
       "0      1           1     76\n",
       "1      2           3     78\n",
       "2      2           3     85\n",
       "3      4           5     88\n",
       "4      2           2     72"
      ]
     },
     "execution_count": 5,
     "metadata": {},
     "output_type": "execute_result"
    }
   ],
   "source": [
    "data = pd.read_csv('../Multi_Linear_Regression/Dataset.csv',delimiter=';')\n",
    "\n",
    "data.head()"
   ]
  },
  {
   "cell_type": "markdown",
   "metadata": {},
   "source": [
    "#### Describe the data"
   ]
  },
  {
   "cell_type": "code",
   "execution_count": 4,
   "metadata": {},
   "outputs": [
    {
     "data": {
      "text/html": [
       "<div>\n",
       "<style scoped>\n",
       "    .dataframe tbody tr th:only-of-type {\n",
       "        vertical-align: middle;\n",
       "    }\n",
       "\n",
       "    .dataframe tbody tr th {\n",
       "        vertical-align: top;\n",
       "    }\n",
       "\n",
       "    .dataframe thead th {\n",
       "        text-align: right;\n",
       "    }\n",
       "</style>\n",
       "<table border=\"1\" class=\"dataframe\">\n",
       "  <thead>\n",
       "    <tr style=\"text-align: right;\">\n",
       "      <th></th>\n",
       "      <th>hours</th>\n",
       "      <th>prep exams</th>\n",
       "      <th>score</th>\n",
       "    </tr>\n",
       "  </thead>\n",
       "  <tbody>\n",
       "    <tr>\n",
       "      <th>count</th>\n",
       "      <td>20.000000</td>\n",
       "      <td>20.000000</td>\n",
       "      <td>20.000000</td>\n",
       "    </tr>\n",
       "    <tr>\n",
       "      <th>mean</th>\n",
       "      <td>3.150000</td>\n",
       "      <td>2.450000</td>\n",
       "      <td>83.700000</td>\n",
       "    </tr>\n",
       "    <tr>\n",
       "      <th>std</th>\n",
       "      <td>1.598519</td>\n",
       "      <td>1.571958</td>\n",
       "      <td>9.841373</td>\n",
       "    </tr>\n",
       "    <tr>\n",
       "      <th>min</th>\n",
       "      <td>1.000000</td>\n",
       "      <td>0.000000</td>\n",
       "      <td>62.000000</td>\n",
       "    </tr>\n",
       "    <tr>\n",
       "      <th>25%</th>\n",
       "      <td>2.000000</td>\n",
       "      <td>1.000000</td>\n",
       "      <td>76.000000</td>\n",
       "    </tr>\n",
       "    <tr>\n",
       "      <th>50%</th>\n",
       "      <td>3.000000</td>\n",
       "      <td>2.500000</td>\n",
       "      <td>85.000000</td>\n",
       "    </tr>\n",
       "    <tr>\n",
       "      <th>75%</th>\n",
       "      <td>4.000000</td>\n",
       "      <td>4.000000</td>\n",
       "      <td>90.500000</td>\n",
       "    </tr>\n",
       "    <tr>\n",
       "      <th>max</th>\n",
       "      <td>6.000000</td>\n",
       "      <td>5.000000</td>\n",
       "      <td>99.000000</td>\n",
       "    </tr>\n",
       "  </tbody>\n",
       "</table>\n",
       "</div>"
      ],
      "text/plain": [
       "           hours  prep exams      score\n",
       "count  20.000000   20.000000  20.000000\n",
       "mean    3.150000    2.450000  83.700000\n",
       "std     1.598519    1.571958   9.841373\n",
       "min     1.000000    0.000000  62.000000\n",
       "25%     2.000000    1.000000  76.000000\n",
       "50%     3.000000    2.500000  85.000000\n",
       "75%     4.000000    4.000000  90.500000\n",
       "max     6.000000    5.000000  99.000000"
      ]
     },
     "execution_count": 4,
     "metadata": {},
     "output_type": "execute_result"
    }
   ],
   "source": [
    "data.describe()"
   ]
  },
  {
   "cell_type": "code",
   "execution_count": 17,
   "metadata": {},
   "outputs": [
    {
     "name": "stdout",
     "output_type": "stream",
     "text": [
      "Y-intercept (beta_0): 67.67352554133268\n",
      "Coefficients:\n",
      "const         67.673526\n",
      "hours          5.555748\n",
      "prep exams    -0.601687\n",
      "dtype: float64\n",
      "\n",
      "Multiple Linear Regression Formula:\n",
      "score = 67.67 + 5.56 * hours + -0.60 * prep_exams\n"
     ]
    }
   ],
   "source": [
    "import statsmodels.api as sm\n",
    "\n",
    "# Define independent variables (X) and dependent variable (y)\n",
    "X = data[['hours', 'prep exams']]\n",
    "y = data['score']\n",
    "\n",
    "# Add a constant term to the independent variables to fit the intercept\n",
    "X = sm.add_constant(X)\n",
    "\n",
    "# Fit the multiple linear regression model\n",
    "model = sm.OLS(y, X).fit()\n",
    "\n",
    "# Get the coefficients (including the intercept)\n",
    "coefficients = model.params\n",
    "\n",
    "# Extract the y-intercept (beta_0)\n",
    "intercept = coefficients['const']\n",
    "\n",
    "print(\"Y-intercept (beta_0):\", intercept)\n",
    "print(\"Coefficients:\")\n",
    "print(coefficients)\n",
    "\n",
    "# Define the formula using the coefficients and variables\n",
    "formula = f\"score = {intercept:.2f} + {coefficients['hours']:.2f} * hours + {coefficients['prep exams']:.2f} * prep_exams\"\n",
    "\n",
    "\n",
    "print(\"\\nMultiple Linear Regression Formula:\")\n",
    "print(formula)\n"
   ]
  },
  {
   "cell_type": "markdown",
   "metadata": {},
   "source": [
    "## Model Coefficients and Y-intercept Calculation"
   ]
  },
  {
   "cell_type": "markdown",
   "metadata": {},
   "source": [
    "## Calculate and Interpret the Correlation Coefficient\n",
    "#### calculate and interpret the correlation coefficient between hours, number of exams prepared, and score."
   ]
  },
  {
   "cell_type": "code",
   "execution_count": 8,
   "metadata": {},
   "outputs": [
    {
     "name": "stdout",
     "output_type": "stream",
     "text": [
      "hours         0.852791\n",
      "prep exams    0.369810\n",
      "Name: score, dtype: float64\n"
     ]
    }
   ],
   "source": [
    "# Calculate the correlation matrix\n",
    "correlation_matrix = data.corr()\n",
    "\n",
    "# Extract the correlation coefficient between 'hours', 'exams', and 'score'\n",
    "correlation_coefficients = correlation_matrix.loc[['hours', 'prep exams'], 'score']\n",
    "\n",
    "# Print the correlation coefficients without displaying additional information\n",
    "print(correlation_coefficients)\n"
   ]
  },
  {
   "cell_type": "markdown",
   "metadata": {},
   "source": [
    "## Estimated Regression Line Parameters\n",
    "#### Write down estimated regression line parameters by performing linear regression analysis."
   ]
  },
  {
   "cell_type": "code",
   "execution_count": 9,
   "metadata": {},
   "outputs": [
    {
     "name": "stdout",
     "output_type": "stream",
     "text": [
      "Intercept: 67.67352554133268\n",
      "Slope for hours: 5.555748295250623\n",
      "Slope for exams: -0.601686804641715\n"
     ]
    }
   ],
   "source": [
    "import statsmodels.api as sm\n",
    "\n",
    "# Define the independent variables (X) and the dependent variable (y)\n",
    "X = data[['hours', 'prep exams']]\n",
    "y = data['score']\n",
    "\n",
    "# Add a constant term to the independent variables\n",
    "X = sm.add_constant(X)\n",
    "\n",
    "# Fit the linear regression model\n",
    "model = sm.OLS(y, X).fit()\n",
    "\n",
    "# Get the estimated parameters (intercept and slopes)\n",
    "intercept = model.params['const']\n",
    "slope_hours = model.params['hours']\n",
    "slope_exams = model.params['prep exams']\n",
    "\n",
    "print(\"Intercept:\", intercept)\n",
    "print(\"Slope for hours:\", slope_hours)\n",
    "print(\"Slope for exams:\", slope_exams)"
   ]
  },
  {
   "cell_type": "markdown",
   "metadata": {},
   "source": [
    "## Estimate the Scores Value\n",
    "#### Estimate the score value for an observation with 6 hours of preparation and 4 exams taken."
   ]
  },
  {
   "cell_type": "code",
   "execution_count": 10,
   "metadata": {},
   "outputs": [
    {
     "name": "stdout",
     "output_type": "stream",
     "text": [
      "Estimated score: 98.60126809426956\n"
     ]
    }
   ],
   "source": [
    "# Given values\n",
    "hours = 6\n",
    "exams = 4\n",
    "\n",
    "# Calculate the estimated score\n",
    "estimated_score = intercept + (slope_hours * hours) + (slope_exams * exams)\n",
    "\n",
    "print(\"Estimated score:\", estimated_score)"
   ]
  },
  {
   "cell_type": "markdown",
   "metadata": {},
   "source": [
    "## Calculate and Interpret the Coefficient of Determination\n",
    "#### calculate and interpret the coefficient of determination of the model."
   ]
  },
  {
   "cell_type": "code",
   "execution_count": 11,
   "metadata": {},
   "outputs": [
    {
     "name": "stdout",
     "output_type": "stream",
     "text": [
      "Coefficient of determination (R-squared): 0.7340272170388175\n"
     ]
    }
   ],
   "source": [
    "# Get the coefficient of determination (R-squared)\n",
    "r_squared = model.rsquared\n",
    "\n",
    "print(\"Coefficient of determination (R-squared):\", r_squared)"
   ]
  },
  {
   "cell_type": "markdown",
   "metadata": {},
   "source": [
    "## Test for Significance \n",
    "#### Test the model for significance on a 5% level using an F-test."
   ]
  },
  {
   "cell_type": "code",
   "execution_count": 24,
   "metadata": {},
   "outputs": [
    {
     "name": "stdout",
     "output_type": "stream",
     "text": [
      "p-value for F-test: 1.2915647352305291e-05\n",
      "1.2915647352305291e-05 < 0.05\n"
     ]
    }
   ],
   "source": [
    "# Get the p-value for the F-test\n",
    "f_pvalue = model.f_pvalue\n",
    "\n",
    "print(\"p-value for F-test:\", f_pvalue)\n",
    "\n",
    "# Compare the p-value with the significance level (0.05)\n",
    "if f_pvalue < 0.05:\n",
    "    print(f_pvalue , \"< 0.05\")\n",
    "else:\n",
    "    print(f_pvalue , \"> 0.05\")\n"
   ]
  },
  {
   "cell_type": "markdown",
   "metadata": {},
   "source": [
    "## Train Data\n"
   ]
  },
  {
   "cell_type": "code",
   "execution_count": 18,
   "metadata": {},
   "outputs": [
    {
     "name": "stdout",
     "output_type": "stream",
     "text": [
      "Mean Squared Error: 17.699192001292992\n"
     ]
    }
   ],
   "source": [
    "from sklearn.model_selection import train_test_split\n",
    "from sklearn.linear_model import LinearRegression\n",
    "from sklearn.metrics import mean_squared_error\n",
    "\n",
    "# Assuming 'X' contains independent variables and 'y' contains the dependent variable\n",
    "X = data[['hours', 'prep exams']]\n",
    "y = data['score']\n",
    "\n",
    "# Split the data into training and testing sets\n",
    "X_train, X_test, y_train, y_test = train_test_split(X, y, test_size=0.2, random_state=42)\n",
    "\n",
    "# Initialize the linear regression model\n",
    "model = LinearRegression()\n",
    "\n",
    "# Fit the model on the training data\n",
    "model.fit(X_train, y_train)\n",
    "\n",
    "# Predict the scores for the testing data\n",
    "y_pred = model.predict(X_test)\n",
    "\n",
    "# Evaluate the model performance\n",
    "mse = mean_squared_error(y_test, y_pred)\n",
    "print(\"Mean Squared Error:\", mse)\n",
    "\n"
   ]
  }
 ],
 "metadata": {
  "kernelspec": {
   "display_name": "Python 3 (ipykernel)",
   "language": "python",
   "name": "python3"
  },
  "language_info": {
   "codemirror_mode": {
    "name": "ipython",
    "version": 3
   },
   "file_extension": ".py",
   "mimetype": "text/x-python",
   "name": "python",
   "nbconvert_exporter": "python",
   "pygments_lexer": "ipython3",
   "version": "3.11.7"
  }
 },
 "nbformat": 4,
 "nbformat_minor": 2
}
